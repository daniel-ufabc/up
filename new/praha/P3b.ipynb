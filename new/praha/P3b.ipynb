{
 "cells": [
  {
   "cell_type": "markdown",
   "metadata": {},
   "source": [
    "# Universidade Federal do ABC\n",
    "\n",
    "## Bases Computacionais da Ciência &mdash; Prova 2 &mdash; 31/07/2017"
   ]
  },
  {
   "cell_type": "markdown",
   "metadata": {},
   "source": [
    "### Nome: <font color=\"red\">Clique aqui duas vezes, coloque o seu nome e tecle SHIFT+ENTER</font>"
   ]
  },
  {
   "cell_type": "markdown",
   "metadata": {},
   "source": [
    "## Instruções\n",
    "\n",
    "* Deslique o seu celular.\n",
    "* Não é permitida a consulta a nenhum material *online* (Internet) nem *offline* (arquivos, livros, etc.) e nem a colegas.\n",
    "* Se você trouxe uma colinha manuscrita numa folha A4, você pode consultá-la.\n",
    "* Siga rigorosamente as instruções de cada questão.\n",
    "\n",
    "\n",
    "### Como salvar este arquivo e como submeter?\n",
    "\n",
    "1. Salve este *notebook* pelo menu _**File &raquo; Save and Checkpoint**_ ou pelo ícone de disquete.\n",
    "2. Vá até o site [2017.Q2.BCC](http://tidia4.ufabc.edu.br/portal/site/8398384e-4091-4504-9c21-eae9a6a24a61) do Tidia4, e entre em _**Atividades &raquo; Prova 2 (Turma ...)**_.\n",
    "3. Anexe este arquivo de notebook, cujo nome é **P2.ipynb**, e que se encontra no diretório Downloads.\n",
    "4. Não esqueça de submeter a atividade.\n",
    "\n",
    "<hr/>"
   ]
  },
  {
   "cell_type": "markdown",
   "metadata": {
    "collapsed": true
   },
   "source": [
    "## Questão 1\n",
    "\n",
    "(2 pontos) Alice e Beto querem saber quem faz aniversário primeiro durante o ano. Você deve fazer um programa para ajudá-los nessa tarefa. Seu programa deve:\n",
    "\n",
    "* pedir o mês do aniversário da Alice (um inteiro de 1 a 12);\n",
    "* pedir o dia do aniversário da Alice (um inteiro de 1 a 31);\n",
    "* pedir o mês do aniversário da Beto (um inteiro de 1 a 12);\n",
    "* pedir o dia do aniversário da Beto (um inteiro de 1 a 31);\n",
    "* decidir quem faz aniversário primeiro durante o ano e mostrar o veredito. "
   ]
  },
  {
   "cell_type": "code",
   "execution_count": null,
   "metadata": {
    "collapsed": true
   },
   "outputs": [],
   "source": []
  },
  {
   "cell_type": "markdown",
   "metadata": {},
   "source": [
    "## Questão 2\n",
    "\n",
    "(2 pontos) Uma escada tem 1000 degraus. No primeiro degrau, está empuleirado 1 pombinho; no segundo degrau, 3 pombinhos; no terceiro degrau, 5 pombinhos; no quarto, 7 pombinhos; no quinto, 9 pombinhos, e assim por diante. \n",
    "\n",
    "Existe uma fórmula matemática para calcular o total de pombinhos empuleirados na escada toda mas, nesta questão, queremos que você use um comando de repetição (**`for`** ou **`while`**) para computar essa quantidade. \n",
    "\n",
    "Não é permitido importar nenhum módulo! Nem mesmo o módulo `numpy`."
   ]
  },
  {
   "cell_type": "code",
   "execution_count": null,
   "metadata": {
    "collapsed": true
   },
   "outputs": [],
   "source": []
  },
  {
   "cell_type": "markdown",
   "metadata": {},
   "source": [
    "## Questão 3\n",
    "\n",
    "(2 pontos) Carol gosta de jogar o seguinte jogo. Ela pede para alguém pensar em numero natural qualquer. Depois, Carol faz o seguinte: se esse número é par, ela divide por 2; se ele é ímpar, ela multiplica por 3 e soma 1. Então Carol repete isso para o resultado da última conta que ela fez: se o novo número é par, ela divide por 2; se é ímpar, ela multiplica por 3 e soma 1. Ela só termina o jogo quando ela encontrar o número 1. Ou seja, ela continua a jogar enquanto o número atual não for igual a 1. \n",
    "\n",
    "Por exemplo, vamos supor que alquém sugeriu o número 3 pra Carol. Então ela vai gerar a sequência:\n",
    "\n",
    "    3, 10, 5, 16, 8, 4, 2, 1\n",
    "    \n",
    "Faça um programa para simular o jogo da Carol. Seu programa deve fazer o seguinte:\n",
    "* perguntar um número `n` ao usuário, e\n",
    "* imprimir todos os números que Carol obteria ao jogar o seu jogo comaçando com `n`. \n",
    "\n",
    "Você não precisa imprimir todos os números na mesma linha, pode ser um por linha.\n",
    "\n",
    "**Anenção:** na hora de fazer divisão, use o operador de divisão inteira `//` do Python."
   ]
  },
  {
   "cell_type": "code",
   "execution_count": null,
   "metadata": {
    "collapsed": true
   },
   "outputs": [],
   "source": []
  },
  {
   "cell_type": "markdown",
   "metadata": {},
   "source": [
    "## Questão 4\n",
    "\n",
    "(1.5 pontos) Uma das questões da Unidade 8 afirmava que existe um número inteiro $n$ com quatro dígitos tal que os quatro dígitos menos significativos de $n^2$ são os próprios quatro dígitos de $n$. Esse número é 9376, pois o quadrado de 9376 é 8790<b><u>9376</u></b>.\n",
    "\n",
    "Nesta questão, você deve achar um número inteiro $n$ com 5 dígitos que tem uma propriedade semelhante: os 5 dígitos menos significativos de $n^2$ são os próprios dígitos de $n$."
   ]
  },
  {
   "cell_type": "code",
   "execution_count": null,
   "metadata": {
    "collapsed": false
   },
   "outputs": [],
   "source": []
  },
  {
   "cell_type": "markdown",
   "metadata": {},
   "source": [
    "# Questão 5\n",
    "\n",
    "(1.0 ponto) Faça um programa que exibe uma mensagem aleatória com as probabilidades especificadas. \n",
    "\n",
    "|              Mensagem              | Probabilidade |\n",
    "|------------------------------------|:-------------:|\n",
    "| Você vai ganhar na loteria!        |      25%      |\n",
    "| Você vai gabaritar esta prova!     |      25%      |\n",
    "| Seu time de futebol será vencedor! |      50%      |"
   ]
  },
  {
   "cell_type": "code",
   "execution_count": null,
   "metadata": {
    "collapsed": true
   },
   "outputs": [],
   "source": [
    "import random as rd\n",
    "\n",
    "# Coloque seu código logo aqui em baixo:\n"
   ]
  },
  {
   "cell_type": "markdown",
   "metadata": {},
   "source": [
    "## Questão 6\n",
    "\n",
    "(1.5 pontos) Faça o gráfico da função abaixo para $x$ variando no intervalo [0.01, 0.1]. O gráfico não deve ter \"bicos\", afinal, o gráfico dessa função é uma curva suave (veja abaixo).\n",
    "\n",
    "$$\\mathrm{sen}\\left(\\frac{1}{x}\\right)$$\n",
    "\n",
    "Seu gráfico deve ficar assim:\n",
    "\n",
    "<div style=\"text-align: center;\">\n",
    "<img src=\"sin1overx.png\" />\n",
    "</div>"
   ]
  },
  {
   "cell_type": "code",
   "execution_count": 36,
   "metadata": {
    "collapsed": true
   },
   "outputs": [],
   "source": [
    "import numpy as np\n",
    "import matplotlib.pyplot as plt\n",
    "%matplotlib inline\n",
    "\n",
    "# Coloque seu código logo aqui em baixo:\n"
   ]
  },
  {
   "cell_type": "markdown",
   "metadata": {},
   "source": [
    "## Questão 7 (bônus)\n",
    "\n",
    "(2 pontos) Resolva o mesmo problema da Questão 1, mas agora para $n$ pessoas. Seu programa deve fazer o seguinte:\n",
    "\n",
    "* perguntar o número $n$ de pessoas;\n",
    "* para cada uma das $n$ pessoas, fazer três perguntas:\n",
    "  * qual o seu nome?\n",
    "  * em que mês faz aniversário?\n",
    "  * em que dia desse mês faz aniversário?\n",
    "* finalmente, seu programa deve mostrar na tela o nome da pessoa que faz aniversário mais cedo durante o ano.\n",
    "\n",
    "Ainda que você saiba lidar com listas, é proibido usá-las neste exercício (assim como arrays e vetores). Se der empate &ndash; duas pessoas fazendo aniversário no mesmo dia e mês &ndash; tanto faz qual delas o programa mostra."
   ]
  },
  {
   "cell_type": "code",
   "execution_count": null,
   "metadata": {
    "collapsed": true
   },
   "outputs": [],
   "source": []
  }
 ],
 "metadata": {
  "kernelspec": {
   "display_name": "Python 3",
   "language": "python",
   "name": "python3"
  },
  "language_info": {
   "codemirror_mode": {
    "name": "ipython",
    "version": 3
   },
   "file_extension": ".py",
   "mimetype": "text/x-python",
   "name": "python",
   "nbconvert_exporter": "python",
   "pygments_lexer": "ipython3",
   "version": "3.5.2"
  }
 },
 "nbformat": 4,
 "nbformat_minor": 0
}
