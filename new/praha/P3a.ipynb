{
 "cells": [
  {
   "cell_type": "markdown",
   "metadata": {},
   "source": [
    "# Universidade Federal do ABC\n",
    "\n",
    "## Bases Computacionais da Ciência &mdash; Prova REC &mdash; 21/08/2018"
   ]
  },
  {
   "cell_type": "markdown",
   "metadata": {},
   "source": [
    "### Nome: <font color=\"red\">Clique aqui duas vezes, coloque o seu nome e tecle SHIFT+ENTER</font>"
   ]
  },
  {
   "cell_type": "markdown",
   "metadata": {},
   "source": [
    "## Instruções\n",
    "\n",
    "* Deslique o seu celular.\n",
    "* Os arquivos .csv devem ser abertos com as seguintes opções. _Codificação: **UTF-8**_ e _separador: **vírgula**_.\n",
    "* Não é permitida a consulta a nenhum material *online* (Internet) nem *offline* (arquivos, livros, etc.) e nem a colegas, exceto á _colinha_ manuscrita que você preparou numa folha A4.\n",
    "* Siga rigorosamente as instruções de cada questão.\n",
    "* Crie um novo arquivo no LibreOffice Writer onde você colocará as respostas das questões 1 e 2, **em ordem**.\n",
    "* Na primeira linha desse arquivo, digite seu nome completo e RA.\n",
    "* Salve seu trabalho frequentemente:\n",
    " * no LibreOffice Writer pelo menu _**Arquivo &raquo; Salvar**_, e\n",
    " * neste *notebook* pelo menu _**File &raquo; Save and Checkpoint**_ ou pelo ícone do disquete.\n",
    "\n",
    "\n",
    "### O que submeter e como?\n",
    "\n",
    "1. Converta seu arquivo do LibreOffice Writer em um arquivo PDF.\n",
    "2. Salve este *notebook* conforme as instruções acima.\n",
    "3. Siga as instruções nas últimas células deste notebook para enviar os dois arquivos."
   ]
  },
  {
   "cell_type": "markdown",
   "metadata": {},
   "source": [
    "## Questão 1\n",
    "\n",
    "\n",
    "(1.5) Um guarda rodoviário anotou o modelo e a velocidade de cada veículo que passou por uma estrada remota. Os dados foram registrados no arquivo <code>velocidades.csv</code>. Abra esse arquivo no LibreOffice Calc. Pede-se o seguinte.\n",
    "\n",
    "(a) Calcular a velocidade média para cada modelo de carro. Faça um *screenshot* **legível** da planilha com as respostas e cole no documento-resposta.\n",
    "\n",
    "(b) Fazer um histograma das velocidades medidas. Classificar as velocidades nas seguntes faixas: de 65 até 75, de 75 até 85, etc. (de dez em dez). A última classe deve conter todos os veículos com velocidades acima de 175. Copiar o gráfico e colar no arquivo de respostas."
   ]
  },
  {
   "cell_type": "code",
   "execution_count": null,
   "metadata": {
    "collapsed": true
   },
   "outputs": [],
   "source": []
  },
  {
   "cell_type": "markdown",
   "metadata": {},
   "source": [
    "## Questão 2\n",
    "\n",
    "(1.5) Clientes de um restaurante preencheram, ao final da refeição, um pequeno questionário de avaliação do prato que pediram. Os preços e as notas médias de cada prato estão disponíveis no arquivo <code>pratos.csv</code>. Abra esse arquivo no LibreOffice Calc. Pede-se:\n",
    "\n",
    "(a) calcular o coeficiente de correlação entre os preços e as notas dos pratos e interpretar esse número;<br>\n",
    "(b) fazer o gráfico de disperção desses dados, dar nomes aos eixos, e mostrar a reta de regressão linear com a equação (usar duas casas decimais para os coeficientes da equação). \n",
    "\n",
    "No documento-resposta, digite a resposta para o item (a) e depois copie e cole o gráfico (com os nomes nos eixos, a reta de regressão linear e sua equação) para responder ao item (b)."
   ]
  },
  {
   "cell_type": "code",
   "execution_count": null,
   "metadata": {
    "collapsed": true
   },
   "outputs": [],
   "source": []
  },
  {
   "cell_type": "markdown",
   "metadata": {
    "collapsed": true
   },
   "source": [
    "## Questão 3\n",
    "\n",
    "(2 pontos) Faça um programa que recebe três números inteiros $a, b$ e $c$ e que depois decide \n",
    "1. se esses números podem ser os comprimentos dos lados de um triângulo; e em caso afirmativo\n",
    "2. se o triângulo é equilátero, \n",
    "3. se é isósceles, e \n",
    "4. se possui algum ângulo obtuso (maior que 90°).\n",
    "\n",
    "**Exemplo:** se o usuário entrar com 2, 3 e 2, seu programa deve responder \n",
    "\n",
    "    Forma triângulo:   SIM\n",
    "    Equilátero:        NÃO\n",
    "    Isósceles:         SIM\n",
    "    Tem ângulo obtuso: SIM"
   ]
  },
  {
   "cell_type": "code",
   "execution_count": null,
   "metadata": {
    "collapsed": true
   },
   "outputs": [],
   "source": []
  },
  {
   "cell_type": "markdown",
   "metadata": {},
   "source": [
    "## Questão 4\n",
    "\n",
    "(2 pontos) Faça um programa que pede ao usuário por três números inteiros $a, b$ e $c$. Depois seu programa deve exibir na tela todos os múltiplos de $c$ que caem no intervalo $[a,b]$."
   ]
  },
  {
   "cell_type": "code",
   "execution_count": null,
   "metadata": {
    "collapsed": true
   },
   "outputs": [],
   "source": []
  },
  {
   "cell_type": "markdown",
   "metadata": {},
   "source": [
    "## Questão 5\n",
    "\n",
    "(3 pontos) Alice e Bob jogam com uma moeda honesta: ganha o jogo aquele que primeiro tirar \"cara\" num lançamento de uma moeda. Alice começa lançando a moeda. Se ela tirar \"cara\", o jogo termina e ela é a vencedora. Se Alice tirar \"coroa\", ela passa a moeda a Bob que tenta sua sorte lançando a moeda. Se ele tirar \"cara\" o jogo termina e ele é o vencedor, senão ele passa a moeda a Alice, e assim por diante. Enfim, o primeiro que tirar \"cara\" é o vencedor.\n",
    "\n",
    "Intuitivamente, Alice tem mais chance de ganhar esse jogo, pois é ela quem faz o primeiro lançamento da moeda. Essa intuição está correta. \n",
    "\n",
    "Nesta questão, você deve simular esse jogo 1000 vezes e contar a frequência com que Alice ganha. Essa contagem serve para estimar a probabilidade de que o primeiro a lançar a moeda é aquele ganha o jogo.\n",
    "\n",
    "Seu programa não deve fazer nenhuma pergunta ao usuário. Ele apenas deve mostrar uma mensagem como\n",
    "\n",
    "        Alice ganhou X jogos dentre os 1000 jogos simulados.\n",
    "        \n",
    "Claro que seu programa deve substituir X pela quantidade de jogos que Alice ganhou ao longo das 1000 simulações."
   ]
  },
  {
   "cell_type": "code",
   "execution_count": null,
   "metadata": {
    "collapsed": true
   },
   "outputs": [],
   "source": [
    "import random as rd\n",
    "\n",
    "# coloque seu código abaixo"
   ]
  },
  {
   "cell_type": "markdown",
   "metadata": {},
   "source": [
    "## Para submeter as respostas da questão 1 e 2\n",
    "\n",
    "<strong><span style=\"color: red;\">Atenção:</span></strong> leia e siga as instruções abaixo, prestando atenção em cada detalhe.\n",
    "\n",
    "A partir do documento que você criou no LibreOffice Writer, crie um arquivo chamado `respostas.pdf` na pasta Downloads.\n",
    "\n",
    "Para enviar o arquivo `.pdf` que você criou, execute a célula abaixo e responda às perguntas que o programa fizer com os seus dados."
   ]
  },
  {
   "cell_type": "code",
   "execution_count": null,
   "metadata": {
    "collapsed": true
   },
   "outputs": [],
   "source": [
    "import requests\n",
    "import os\n",
    "\n",
    "if not os.path.isfile('~/Downloads/respostas.pdf'):\n",
    "    print('O arquivo \"respostas.pdf\" na pasta \"Downloads\" não foi encontrado.')\n",
    "    print('Certifique-se de que você salvou o arquivo')\n",
    "    print('com o nome \"respostas.pdf\" na pasta \"Downloads\".')\n",
    "else:\n",
    "    turma = 'NA5'\n",
    "\n",
    "    try:\n",
    "        if envioupdf != None:\n",
    "            print('Você já enviou o arquivo respostas.pdf.')\n",
    "            print('Seu código de submissão do arquivo PDF é:', envioupdf.strip())\n",
    "    except NameError:\n",
    "        nome = input(\"Digite seu nome completo: \")\n",
    "        RA = input('Digite seu RA: ')\n",
    "        print('Aguarde...')\n",
    "\n",
    "        url = \"http://177.104.60.13/up/bin/upload.py\"\n",
    "        with open('respostas.pdf', 'rb') as fin:\n",
    "            files = {'file': fin, 'nome': nome, 'RA': RA, 'turma': turma}\n",
    "            try:\n",
    "                r = requests.post(url, files=files)\n",
    "                envioupdf = r.text\n",
    "                print('O arquivo respostas.pdf foi enviado com sucesso!')\n",
    "                print('Seu código de submissão do arquivo PDF é:', envioupdf.strip())\n",
    "            except:\n",
    "                print('Ocorreu um erro. Certifique-se de que você salvou o arquivo')\n",
    "                print('com o nome \"respostas.pdf\" na pasta \"Downloads\".')\n"
   ]
  },
  {
   "cell_type": "markdown",
   "metadata": {},
   "source": [
    "## Para submeter este notebook \n",
    "\n",
    "<strong><span style=\"color: red;\">Atenção:</span></strong> leia e siga as instruções abaixo, prestando atenção em cada detalhe.\n",
    "\n",
    "Primeiro, certifique-se de que você já executou a célula de código acima para enviar o arquivo PDF. (Se você não fez as questões 1 e 2, e não tem pdf pra submeter, **faça essa etapa mesmo assim** para que o kernel possa ler seu nome, RA e a turma.)\n",
    "\n",
    "Para salvar este *notebook*, vá até o menu _**File &raquo; Save and Checkpoint**_ ou clique no ícone do disquete.\n",
    "\n",
    "Para enviar este *notebook*, execute a célula."
   ]
  },
  {
   "cell_type": "code",
   "execution_count": null,
   "metadata": {
    "collapsed": true
   },
   "outputs": [],
   "source": [
    "from IPython.display import display, Javascript \n",
    "import requests\n",
    "from time import sleep\n",
    "\n",
    "display(Javascript('IPython.notebook.save_checkpoint();'))\n",
    "print('Aguarde...')\n",
    "sleep(1s)\n",
    "\n",
    "try:\n",
    "    if envioup3 != None:\n",
    "        print('Você já enviou o notebook da sua prova.')\n",
    "        print('O código de submissão do arquivo P3.ipynb é:', envioup3.strip())\n",
    "except NameError:\n",
    "    try:\n",
    "        if nome != RA:\n",
    "            pass\n",
    "    except NameError:\n",
    "        nome = input(\"Digite seu nome completo: \")\n",
    "        RA = input('Digite seu RA: ')\n",
    "        turma = input('Digite sua turma: ')\n",
    "    print('Aguarde...')\n",
    "\n",
    "    url = \"http://177.104.60.13/up/bin/upload.py\"\n",
    "    with open('P3.ipynb', 'rb') as fin:\n",
    "        files = {'file': fin, 'nome': nome, 'RA': RA, 'turma': turma}\n",
    "        try:\n",
    "            r = requests.post(url, files=files)\n",
    "            envioup3 = r.text\n",
    "            print('O arquivo P3.ipynb foi enviado com sucesso!')\n",
    "            print('O código de submissão do arquivo P3.ipynb é: ', envioup3.strip())\n",
    "        except:\n",
    "            print('Ocorreu um erro. Comunique o professor.')\n"
   ]
  }
 ],
 "metadata": {
  "kernelspec": {
   "display_name": "Python 3",
   "language": "python",
   "name": "python3"
  },
  "language_info": {
   "codemirror_mode": {
    "name": "ipython",
    "version": 3
   },
   "file_extension": ".py",
   "mimetype": "text/x-python",
   "name": "python",
   "nbconvert_exporter": "python",
   "pygments_lexer": "ipython3",
   "version": "3.5.2"
  }
 },
 "nbformat": 4,
 "nbformat_minor": 1
}
